{
 "cells": [
  {
   "cell_type": "markdown",
   "metadata": {},
   "source": [
    "###### 1.1 Write a Python Program(with class concepts) to find the area of the triangle using the below formula. \n",
    "###### area = (s*(s-a)*(s-b)*(s-c)) ** 0.5\n",
    "###### Function to take the length of the sides of triangle from user should be defined in the parent class and function to calculate the area should be defined in subclass."
   ]
  },
  {
   "cell_type": "code",
   "execution_count": 40,
   "metadata": {},
   "outputs": [
    {
     "name": "stdout",
     "output_type": "stream",
     "text": [
      "Enter side of triangle -a :3\n",
      "Enter side of triangle -b :4\n",
      "Enter side of triangle -c :5\n",
      "Area of triangle => 6.00 \n"
     ]
    }
   ],
   "source": [
    "class Shape(object):\n",
    "    def __init__(self):\n",
    "        self.a=0\n",
    "        self.b=0\n",
    "        self.c=0\n",
    "    \n",
    "    def enterSideOfTriangle(self):\n",
    "        self.a=int(input(\"Enter side of triangle -a :\"))\n",
    "        self.b=int(input(\"Enter side of triangle -b :\"))\n",
    "        self.c=int(input(\"Enter side of triangle -c :\"))\n",
    "    \n",
    "class Triangle(Shape):    \n",
    "    def calculateArea(self): \n",
    "        s = (self.a+self.b+self.c)/2\n",
    "        area= (s*(s-self.a)*(s-self.b)*(s-self.c))**.5\n",
    "        print(\"Area of triangle => %.2f \" % area)\n",
    "        \n",
    "class Test:     \n",
    "    tri = Triangle()\n",
    "    tri.enterSideOfTriangle()\n",
    "    tri.calculateArea()\n",
    "        "
   ]
  },
  {
   "cell_type": "markdown",
   "metadata": {},
   "source": [
    "###### 1.2 Write a function filter_long_words() that takes a list of words and an integer n and returns the list of words that are longer than n."
   ]
  },
  {
   "cell_type": "code",
   "execution_count": 16,
   "metadata": {},
   "outputs": [
    {
     "name": "stdout",
     "output_type": "stream",
     "text": [
      "['learning', 'Analytics', 'ACADGILD']\n"
     ]
    }
   ],
   "source": [
    "class FilterWord:\n",
    "    \n",
    "    def filter_long_word(self,words,size):\n",
    "        finalList=list()\n",
    "        for word in words:\n",
    "            if(len(word)>size):\n",
    "                finalList.append(word)\n",
    "        return finalList\n",
    "\n",
    "class Demo:\n",
    "    obj = FilterWord()\n",
    "    dataLoad= ['I','am','learning','Data','Analytics','from','ACADGILD']\n",
    "    print(obj.filter_long_word(dataLoad,4))\n",
    "        "
   ]
  },
  {
   "cell_type": "markdown",
   "metadata": {},
   "source": [
    "###### 2.1 Write a Python program using function concept that maps list of words into a list of integers representing the lengths of the corresponding words ."
   ]
  },
  {
   "cell_type": "code",
   "execution_count": 15,
   "metadata": {},
   "outputs": [
    {
     "name": "stdout",
     "output_type": "stream",
     "text": [
      "[1, 2, 8, 4, 9, 4, 8]\n"
     ]
    }
   ],
   "source": [
    "class ListToInteger:\n",
    "    def mapLst2Int(self,words):\n",
    "        lstInt=list()\n",
    "        for word in words:\n",
    "            lstInt.append(len(word))\n",
    "        return lstInt\n",
    "\n",
    "class Demo:\n",
    "    obj = ListToInteger()\n",
    "    load=['I','am','learning','Data','Analytics','from','ACADGILD']\n",
    "    print(obj.mapLst2Int(load))\n"
   ]
  },
  {
   "cell_type": "markdown",
   "metadata": {},
   "source": [
    "###### 2.2 Write a Python function which takes a character (i.e. a string of length 1) and returns True if it is a vowel, False otherwise."
   ]
  },
  {
   "cell_type": "code",
   "execution_count": 33,
   "metadata": {},
   "outputs": [
    {
     "name": "stdout",
     "output_type": "stream",
     "text": [
      "False\n"
     ]
    }
   ],
   "source": [
    "class CharToBool:\n",
    "    def __init(self):\n",
    "        self.ch=''\n",
    "        \n",
    "    \n",
    "    def converter(self,ch):\n",
    "        vowel =['a','e','i','o','u','y','A','E','I','O','U','Y']\n",
    "        if ch in vowel:\n",
    "            return True\n",
    "        else:\n",
    "            return False\n",
    "\n",
    "class Demo:\n",
    "    obj = CharToBool()\n",
    "    print(obj.converter('Z'))"
   ]
  },
  {
   "cell_type": "code",
   "execution_count": null,
   "metadata": {},
   "outputs": [],
   "source": []
  }
 ],
 "metadata": {
  "kernelspec": {
   "display_name": "Python 3",
   "language": "python",
   "name": "python3"
  },
  "language_info": {
   "codemirror_mode": {
    "name": "ipython",
    "version": 3
   },
   "file_extension": ".py",
   "mimetype": "text/x-python",
   "name": "python",
   "nbconvert_exporter": "python",
   "pygments_lexer": "ipython3",
   "version": "3.6.5"
  }
 },
 "nbformat": 4,
 "nbformat_minor": 2
}
